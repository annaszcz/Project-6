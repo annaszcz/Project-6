{
 "cells": [
  {
   "cell_type": "code",
   "execution_count": 62,
   "metadata": {},
   "outputs": [],
   "source": [
    "import bs4\n",
    "import requests\n",
    "\n",
    "response = requests.get(\"https://www.ft.com/bitcoin\")\n",
    "soup = bs4.BeautifulSoup(response.text, 'lxml')\n"
   ]
  },
  {
   "cell_type": "code",
   "execution_count": 63,
   "metadata": {},
   "outputs": [
    {
     "data": {
      "text/plain": [
       "[<p class=\"o-teaser__standfirst\"><a class=\"js-teaser-standfirst-link\" data-trackable=\"standfirst-link\" href=\"/content/f50e6936-af3c-4066-9b4b-41797549541b\" tabindex=\"-1\">Markets expect former president to take light-touch approach to regulation</a></p>,\n",
       " <p class=\"o-teaser__standfirst\"><a class=\"js-teaser-standfirst-link\" data-trackable=\"standfirst-link\" href=\"/content/04439d64-7fce-4eaf-8257-2648d9bf5857\" tabindex=\"-1\">Beijing unveils fiscal stimulus to help shore up its faltering economy</a></p>,\n",
       " <p class=\"o-teaser__standfirst\"><a class=\"js-teaser-standfirst-link\" data-trackable=\"standfirst-link\" href=\"/content/170785ce-68e5-4de5-88bc-168a9a7fa3ed\" tabindex=\"-1\">Cryptocurrency surges past $80,000 for first time after Donald Trump’s decisive win</a></p>,\n",
       " <p class=\"o-teaser__standfirst\"><a class=\"js-teaser-standfirst-link\" data-trackable=\"standfirst-link\" href=\"/content/17231484-394d-4e5d-965a-3d24b01f8a1e\" tabindex=\"-1\">Thin foundations do not really matter to the market frenzy</a></p>,\n",
       " <p class=\"o-teaser__standfirst\"><a class=\"js-teaser-standfirst-link\" data-trackable=\"standfirst-link\" href=\"/content/bdc3311d-3a29-4a3a-82e7-d646bc065dce\" tabindex=\"-1\">Republican presidential victor has vowed to end regulatory crackdown on cryptocurrency industry</a></p>,\n",
       " <p class=\"o-teaser__standfirst\"><a class=\"js-teaser-standfirst-link\" data-trackable=\"standfirst-link\" href=\"/content/40dee5db-eaba-4e51-82f6-a4c22dec3883\" tabindex=\"-1\">A bewildering resurgence shows that followers can be found even in the frothiest end of the spectrum</a></p>,\n",
       " <p class=\"o-teaser__standfirst\"><a class=\"js-teaser-standfirst-link\" data-trackable=\"standfirst-link\" href=\"/content/c14574de-15a3-44b9-aca9-726fbe1bf4ec\" tabindex=\"-1\">Wealth group doubles down on themes foremost in the ex-president’s financial community as election day nears</a></p>,\n",
       " <p class=\"o-teaser__standfirst\"><a class=\"js-teaser-standfirst-link\" data-trackable=\"standfirst-link\" href=\"/content/5e5968fa-48a0-4454-9408-5244869c724a\" tabindex=\"-1\">An FTAV frontline dispatch from ‘a historic event in the cryptocurrency landscape’</a></p>,\n",
       " <p class=\"o-teaser__standfirst\"><a class=\"js-teaser-standfirst-link\" data-trackable=\"standfirst-link\" href=\"/content/e3eafbe7-39b7-4e4c-8e1d-a07cb0051385\" tabindex=\"-1\">Forever and ether, amen</a></p>,\n",
       " <p class=\"o-teaser__standfirst\"><a class=\"js-teaser-standfirst-link\" data-trackable=\"standfirst-link\" href=\"/content/92e0c542-7259-475d-b6f8-bc45b39eb185\" tabindex=\"-1\">Record 70% income haul from fresh money is shot in the arm for active fund industry</a></p>,\n",
       " <p class=\"o-teaser__standfirst\"><a class=\"js-teaser-standfirst-link\" data-trackable=\"standfirst-link\" href=\"/content/dcf12d6b-84a9-4a39-9b8e-ca1e36f2e2f0\" tabindex=\"-1\">Fee cuts are latest in price war that started with approval of spot bitcoin ETFs in US in January</a></p>,\n",
       " <p class=\"o-teaser__standfirst\"><a class=\"js-teaser-standfirst-link\" data-trackable=\"standfirst-link\" href=\"/content/e9a93e3e-3c25-43a7-b3c8-b5d673cb6e78\" tabindex=\"-1\">Republican presidential candidate courts digital asset sector in his campaign</a></p>,\n",
       " <p class=\"o-teaser__standfirst\"><a class=\"js-teaser-standfirst-link\" data-trackable=\"standfirst-link\" href=\"/content/f3bb0b62-2d8a-44e8-a5aa-13a8f154ec0e\" tabindex=\"-1\">Copyright law was key to disputing fraudster’s claim to be cryptocurrency’s founder Satoshi Nakamoto</a></p>,\n",
       " <p class=\"o-teaser__standfirst\"><a class=\"js-teaser-standfirst-link\" data-trackable=\"standfirst-link\" href=\"/content/1f4809cb-47f4-4509-ba9b-b823ae3da1d3\" tabindex=\"-1\">But some industry experts warn that tokens are a ‘novelty asset’ used mostly for trading </a></p>,\n",
       " <p class=\"o-teaser__standfirst\"><a class=\"js-teaser-standfirst-link\" data-trackable=\"standfirst-link\" href=\"/content/e0e5e286-1885-4d72-8b65-3333069815c1\" tabindex=\"-1\">Crypto promotion by the White House would chip away at the dollar’s reserve currency status</a></p>,\n",
       " <p class=\"o-teaser__standfirst\"><a class=\"js-teaser-standfirst-link\" data-trackable=\"standfirst-link\" href=\"/content/c9020b5c-5766-44b0-9bc7-d5d86c77a681\" tabindex=\"-1\">Plus, updates on Marathon Digital, and bitcoin’s rebound</a></p>,\n",
       " <p class=\"o-teaser__standfirst\"><a class=\"js-teaser-standfirst-link\" data-trackable=\"standfirst-link\" href=\"/content/04de7247-6407-4163-be7f-83fd6e488888\" tabindex=\"-1\">The Fed needs to jack up rates NOW</a></p>,\n",
       " <p class=\"o-teaser__standfirst\"><a class=\"js-teaser-standfirst-link\" data-trackable=\"standfirst-link\" href=\"/content/d8aed6fa-6020-404a-9e31-d46125c7e8cd\" tabindex=\"-1\">Plus, updates on Ripple and Trump-related crypto tokens</a></p>,\n",
       " <p class=\"o-teaser__standfirst\"><a class=\"js-teaser-standfirst-link\" data-trackable=\"standfirst-link\" href=\"/content/675b6d4e-0f4e-4953-8743-761eb1751f5b\" tabindex=\"-1\">And crypto regulation</a></p>,\n",
       " <p class=\"o-teaser__standfirst\"><a class=\"js-teaser-standfirst-link\" data-trackable=\"standfirst-link\" href=\"/content/3821ff74-e695-4004-b691-a920ee908996\" tabindex=\"-1\">Big tech libertarians see crypto as a way of blowing up the Fed</a></p>,\n",
       " <p class=\"o-teaser__standfirst\"><a class=\"js-teaser-standfirst-link\" data-trackable=\"standfirst-link\" href=\"/content/8d5cafeb-7304-41a3-bd30-f5de15841ec3\" tabindex=\"-1\">Being a force for stability is a tough ask for a volatile asset</a></p>,\n",
       " <p class=\"o-teaser__standfirst\"><a class=\"js-teaser-standfirst-link\" data-trackable=\"standfirst-link\" href=\"/content/aa5c0637-98df-4d2b-8343-87e75b3510e9\" tabindex=\"-1\">Cryptocurrency market backs former president after ‘brutal assault’ under Biden administration</a></p>,\n",
       " <p class=\"o-teaser__standfirst\"><a class=\"js-teaser-standfirst-link\" data-trackable=\"standfirst-link\" href=\"/content/03e8e1d2-4244-4eba-9248-9bbd8d1b0090\" tabindex=\"-1\">Candidate tells bitcoin enthusiasts he would ensure rules are written by people ‘who love’ cryptocurrencies</a></p>,\n",
       " <p class=\"o-teaser__standfirst\"><a class=\"js-teaser-standfirst-link\" data-trackable=\"standfirst-link\" href=\"/content/8e4aef77-4ba6-4a26-91f0-912bac779f06\" tabindex=\"-1\">Debut not as large as bitcoin ETF launch but in line with expectations</a></p>,\n",
       " <p class=\"o-teaser__standfirst\"><a class=\"js-teaser-standfirst-link\" data-trackable=\"standfirst-link\" href=\"/content/f36d7eeb-03d6-4dab-909a-d5d4524a4edb\" tabindex=\"-1\">Latest authorisations follow January launches of first US spot bitcoin ETFs</a></p>,\n",
       " <p class=\"aside--community__subsection-strapline\">Discover unmissable flagship events and\n",
       " \t\t\t\t\t\t\t\t\t\t\t\tmembers only communities to expand your thinking and elevate your career</p>]"
      ]
     },
     "execution_count": 63,
     "metadata": {},
     "output_type": "execute_result"
    }
   ],
   "source": [
    "# target <p> elements inside the body:\n",
    "soup.body.a\n",
    "\n",
    "# target <p> elements in the document:\n",
    "soup.find_all('p')"
   ]
  },
  {
   "cell_type": "code",
   "execution_count": 64,
   "metadata": {},
   "outputs": [
    {
     "data": {
      "text/plain": [
       "[<a class=\"js-teaser-heading-link\" data-trackable=\"heading-link\" href=\"/content/f50e6936-af3c-4066-9b4b-41797549541b\">Tesla, bitcoin and dollar jump as investors pile into ‘Trump trades’</a>,\n",
       " <a aria-label=\"Listen to podcast China’s $1.4tn fiscal package fails to excite\" class=\"js-teaser-heading-link\" data-trackable=\"heading-link\" href=\"/content/04439d64-7fce-4eaf-8257-2648d9bf5857\">China’s $1.4tn fiscal package fails to excite</a>,\n",
       " <a class=\"js-teaser-heading-link\" data-trackable=\"heading-link\" href=\"/content/170785ce-68e5-4de5-88bc-168a9a7fa3ed\">Bitcoin hits record high as Republicans edge closer to full control of Congress</a>,\n",
       " <a class=\"js-teaser-heading-link\" data-trackable=\"heading-link\" href=\"/content/17231484-394d-4e5d-965a-3d24b01f8a1e\">Trump talk is enough to fire up a crypto boom</a>,\n",
       " <a class=\"js-teaser-heading-link\" data-trackable=\"heading-link\" href=\"/content/bdc3311d-3a29-4a3a-82e7-d646bc065dce\">Bitcoin hits record above $75,000 as crypto industry celebrates Trump win</a>,\n",
       " <a class=\"js-teaser-heading-link\" data-trackable=\"heading-link\" href=\"/content/40dee5db-eaba-4e51-82f6-a4c22dec3883\">Meme coins’ unlikely rally turns gags into riches</a>,\n",
       " <a class=\"js-teaser-heading-link\" data-trackable=\"heading-link\" href=\"/content/c14574de-15a3-44b9-aca9-726fbe1bf4ec\">Trump-aligned fund manager Strive jumps into bitcoin</a>,\n",
       " <a class=\"js-teaser-heading-link\" data-trackable=\"heading-link\" href=\"/content/5e5968fa-48a0-4454-9408-5244869c724a\">‘Satoshi Nakamoto’ says he also designed the Twitter logo</a>,\n",
       " <a class=\"js-teaser-heading-link\" data-trackable=\"heading-link\" href=\"/content/e3eafbe7-39b7-4e4c-8e1d-a07cb0051385\">Can a crypto ETF die of apathy?</a>,\n",
       " <a class=\"js-teaser-heading-link\" data-trackable=\"heading-link\" href=\"/content/92e0c542-7259-475d-b6f8-bc45b39eb185\">Active ETFs triumph over passives in fees from new flows </a>,\n",
       " <a class=\"js-teaser-heading-link\" data-trackable=\"heading-link\" href=\"/content/dcf12d6b-84a9-4a39-9b8e-ca1e36f2e2f0\">21Shares slashes fees on two flagship crypto ETPs</a>,\n",
       " <a class=\"js-teaser-heading-link\" data-trackable=\"heading-link\" href=\"/content/e9a93e3e-3c25-43a7-b3c8-b5d673cb6e78\">Trump promotes sons’ crypto company World Liberty Financial </a>,\n",
       " <a class=\"js-teaser-heading-link\" data-trackable=\"heading-link\" href=\"/content/f3bb0b62-2d8a-44e8-a5aa-13a8f154ec0e\">Craig Wright said he invented bitcoin — lawyers proved him wrong</a>,\n",
       " <a class=\"js-teaser-heading-link\" data-trackable=\"heading-link\" href=\"/content/1f4809cb-47f4-4509-ba9b-b823ae3da1d3\">Tech and crypto groups rush to profit from stablecoin boom</a>,\n",
       " <a class=\"js-teaser-heading-link\" data-trackable=\"heading-link\" href=\"/content/e0e5e286-1885-4d72-8b65-3333069815c1\">Trump’s call for a bitcoin strategic reserve is a very bad idea</a>,\n",
       " <a class=\"js-teaser-heading-link\" data-trackable=\"heading-link\" href=\"/content/c9020b5c-5766-44b0-9bc7-d5d86c77a681\">Hackers return to their roots</a>,\n",
       " <a class=\"js-teaser-heading-link\" data-trackable=\"heading-link\" href=\"/content/04de7247-6407-4163-be7f-83fd6e488888\">The ETF industry’s shark-jumping moment</a>,\n",
       " <a class=\"js-teaser-heading-link\" data-trackable=\"heading-link\" href=\"/content/d8aed6fa-6020-404a-9e31-d46125c7e8cd\">Crypto markets’ rollercoaster week</a>,\n",
       " <a class=\"js-teaser-heading-link\" data-trackable=\"heading-link\" href=\"/content/675b6d4e-0f4e-4953-8743-761eb1751f5b\">The Fed does right, by doing nothing</a>,\n",
       " <a class=\"js-teaser-heading-link\" data-trackable=\"heading-link\" href=\"/content/3821ff74-e695-4004-b691-a920ee908996\">Trump and the politics of bitcoin</a>,\n",
       " <a class=\"js-teaser-heading-link\" data-trackable=\"heading-link\" href=\"/content/8d5cafeb-7304-41a3-bd30-f5de15841ec3\">Trump’s pitch to the crypto crowd lacks logic</a>,\n",
       " <a class=\"js-teaser-heading-link\" data-trackable=\"heading-link\" href=\"/content/aa5c0637-98df-4d2b-8343-87e75b3510e9\">‘The first crypto president’: bitcoin fans bet on Trump to change fortunes</a>,\n",
       " <a class=\"js-teaser-heading-link\" data-trackable=\"heading-link\" href=\"/content/03e8e1d2-4244-4eba-9248-9bbd8d1b0090\">Trump vows to sack SEC boss and end ‘persecution’ of crypto industry</a>,\n",
       " <a class=\"js-teaser-heading-link\" data-trackable=\"heading-link\" href=\"/content/8e4aef77-4ba6-4a26-91f0-912bac779f06\">BlackRock leads as ether ETFs rack up $100mn on first day of US trading</a>,\n",
       " <a class=\"js-teaser-heading-link\" data-trackable=\"heading-link\" href=\"/content/f36d7eeb-03d6-4dab-909a-d5d4524a4edb\">SEC approves ether ETFs as crypto moves closer to mainstream</a>]"
      ]
     },
     "execution_count": 64,
     "metadata": {},
     "output_type": "execute_result"
    }
   ],
   "source": [
    "main_title = soup.select(\".js-teaser-heading-link\")\n",
    "\n",
    "main_title"
   ]
  },
  {
   "cell_type": "code",
   "execution_count": 65,
   "metadata": {},
   "outputs": [],
   "source": [
    "titles = []\n",
    "for i in main_title:\n",
    "    titles.append(i.get_text(strip=True))\n"
   ]
  },
  {
   "cell_type": "code",
   "execution_count": 66,
   "metadata": {},
   "outputs": [
    {
     "data": {
      "text/plain": [
       "['Tesla, bitcoin and dollar jump as investors pile into ‘Trump trades’',\n",
       " 'China’s $1.4tn fiscal package fails to excite',\n",
       " 'Bitcoin hits record high as Republicans edge closer to full control of Congress',\n",
       " 'Trump talk is enough to fire up a crypto boom',\n",
       " 'Bitcoin hits record above $75,000 as crypto industry celebrates Trump win',\n",
       " 'Meme coins’ unlikely rally turns gags into riches',\n",
       " 'Trump-aligned fund manager Strive jumps into bitcoin',\n",
       " '‘Satoshi Nakamoto’ says he also designed the Twitter logo',\n",
       " 'Can a crypto ETF die of apathy?',\n",
       " 'Active ETFs triumph over passives in fees from new flows',\n",
       " '21Shares slashes fees on two flagship crypto ETPs',\n",
       " 'Trump promotes sons’ crypto company World Liberty Financial',\n",
       " 'Craig Wright said he invented bitcoin — lawyers proved him wrong',\n",
       " 'Tech and crypto groups rush to profit from stablecoin boom',\n",
       " 'Trump’s call for a bitcoin strategic reserve is a very bad idea',\n",
       " 'Hackers return to their roots',\n",
       " 'The ETF industry’s shark-jumping moment',\n",
       " 'Crypto markets’ rollercoaster week',\n",
       " 'The Fed does right, by doing nothing',\n",
       " 'Trump and the politics of bitcoin',\n",
       " 'Trump’s pitch to the crypto crowd lacks logic',\n",
       " '‘The first crypto president’: bitcoin fans bet on Trump to change fortunes',\n",
       " 'Trump vows to sack SEC boss and end ‘persecution’ of crypto industry',\n",
       " 'BlackRock leads as ether ETFs rack up $100mn on first day of US trading',\n",
       " 'SEC approves ether ETFs as crypto moves closer to mainstream']"
      ]
     },
     "execution_count": 66,
     "metadata": {},
     "output_type": "execute_result"
    }
   ],
   "source": [
    "titles"
   ]
  },
  {
   "cell_type": "code",
   "execution_count": 67,
   "metadata": {},
   "outputs": [
    {
     "data": {
      "text/plain": [
       "['Monday, 11 November, 2024',\n",
       " '',\n",
       " 'Monday, 11 November, 2024',\n",
       " 'Monday, 11 November, 2024',\n",
       " 'Friday, 8 November, 2024',\n",
       " 'Wednesday, 6 November, 2024',\n",
       " 'Friday, 1 November, 2024',\n",
       " 'Friday, 1 November, 2024',\n",
       " 'Thursday, 31 October, 2024',\n",
       " 'Tuesday, 8 October, 2024',\n",
       " 'Friday, 4 October, 2024',\n",
       " 'Wednesday, 2 October, 2024',\n",
       " 'Tuesday, 17 September, 2024',\n",
       " 'Friday, 13 September, 2024',\n",
       " 'Thursday, 5 September, 2024',\n",
       " 'Monday, 2 September, 2024',\n",
       " 'Friday, 16 August, 2024',\n",
       " 'Thursday, 15 August, 2024',\n",
       " 'Friday, 9 August, 2024',\n",
       " 'Thursday, 1 August, 2024',\n",
       " 'Wednesday, 31 July, 2024',\n",
       " 'Tuesday, 30 July, 2024',\n",
       " 'Tuesday, 30 July, 2024',\n",
       " 'Saturday, 27 July, 2024',\n",
       " 'Wednesday, 24 July, 2024',\n",
       " 'Monday, 22 July, 2024']"
      ]
     },
     "execution_count": 67,
     "metadata": {},
     "output_type": "execute_result"
    }
   ],
   "source": [
    "title_date = soup.select(\"time.o-date\")\n",
    "date = []\n",
    "for i in title_date:\n",
    "    date.append(i.get_text(strip=True))\n",
    "\n",
    "date"
   ]
  },
  {
   "cell_type": "code",
   "execution_count": 68,
   "metadata": {},
   "outputs": [
    {
     "name": "stdout",
     "output_type": "stream",
     "text": [
      "Date: Monday, 11 November, 2024 | Title: Tesla, bitcoin and dollar jump as investors pile into ‘Trump trades’\n",
      "Date:  | Title: China’s $1.4tn fiscal package fails to excite\n",
      "Date: Monday, 11 November, 2024 | Title: Bitcoin hits record high as Republicans edge closer to full control of Congress\n",
      "Date: Monday, 11 November, 2024 | Title: Trump talk is enough to fire up a crypto boom\n",
      "Date: Friday, 8 November, 2024 | Title: Bitcoin hits record above $75,000 as crypto industry celebrates Trump win\n",
      "Date: Wednesday, 6 November, 2024 | Title: Meme coins’ unlikely rally turns gags into riches\n",
      "Date: Friday, 1 November, 2024 | Title: Trump-aligned fund manager Strive jumps into bitcoin\n",
      "Date: Friday, 1 November, 2024 | Title: ‘Satoshi Nakamoto’ says he also designed the Twitter logo\n",
      "Date: Thursday, 31 October, 2024 | Title: Can a crypto ETF die of apathy?\n",
      "Date: Tuesday, 8 October, 2024 | Title: Active ETFs triumph over passives in fees from new flows\n",
      "Date: Friday, 4 October, 2024 | Title: 21Shares slashes fees on two flagship crypto ETPs\n",
      "Date: Wednesday, 2 October, 2024 | Title: Trump promotes sons’ crypto company World Liberty Financial\n",
      "Date: Tuesday, 17 September, 2024 | Title: Craig Wright said he invented bitcoin — lawyers proved him wrong\n",
      "Date: Friday, 13 September, 2024 | Title: Tech and crypto groups rush to profit from stablecoin boom\n",
      "Date: Thursday, 5 September, 2024 | Title: Trump’s call for a bitcoin strategic reserve is a very bad idea\n",
      "Date: Monday, 2 September, 2024 | Title: Hackers return to their roots\n",
      "Date: Friday, 16 August, 2024 | Title: The ETF industry’s shark-jumping moment\n",
      "Date: Thursday, 15 August, 2024 | Title: Crypto markets’ rollercoaster week\n",
      "Date: Friday, 9 August, 2024 | Title: The Fed does right, by doing nothing\n",
      "Date: Thursday, 1 August, 2024 | Title: Trump and the politics of bitcoin\n",
      "Date: Wednesday, 31 July, 2024 | Title: Trump’s pitch to the crypto crowd lacks logic\n",
      "Date: Tuesday, 30 July, 2024 | Title: ‘The first crypto president’: bitcoin fans bet on Trump to change fortunes\n",
      "Date: Tuesday, 30 July, 2024 | Title: Trump vows to sack SEC boss and end ‘persecution’ of crypto industry\n",
      "Date: Saturday, 27 July, 2024 | Title: BlackRock leads as ether ETFs rack up $100mn on first day of US trading\n",
      "Date: Wednesday, 24 July, 2024 | Title: SEC approves ether ETFs as crypto moves closer to mainstream\n"
     ]
    }
   ],
   "source": [
    "# Zip dates and titles into a list of tuples\n",
    "date_title_pairs = list(zip(date, titles))\n",
    "\n",
    "# Print the results\n",
    "for date, title in date_title_pairs:\n",
    "    print(f\"Date: {date} | Title: {title}\")"
   ]
  }
 ],
 "metadata": {
  "kernelspec": {
   "display_name": "base",
   "language": "python",
   "name": "python3"
  },
  "language_info": {
   "codemirror_mode": {
    "name": "ipython",
    "version": 3
   },
   "file_extension": ".py",
   "mimetype": "text/x-python",
   "name": "python",
   "nbconvert_exporter": "python",
   "pygments_lexer": "ipython3",
   "version": "3.12.4"
  }
 },
 "nbformat": 4,
 "nbformat_minor": 2
}
