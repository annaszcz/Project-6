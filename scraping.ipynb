{
 "cells": [
  {
   "cell_type": "code",
   "execution_count": 8,
   "metadata": {},
   "outputs": [],
   "source": [
    "import bs4\n",
    "import requests\n",
    "\n",
    "response = requests.get(\"https://www.ft.com/crypto\")\n",
    "soup = bs4.BeautifulSoup(response.text, 'lxml')\n",
    "# soup = bs4.BeautifulSoup(response.text, 'html.parser') # without lxml package\n",
    "# soup"
   ]
  },
  {
   "cell_type": "code",
   "execution_count": 12,
   "metadata": {},
   "outputs": [
    {
     "data": {
      "text/plain": [
       "<p class=\"o-teaser__standfirst\"><a class=\"js-teaser-standfirst-link\" data-trackable=\"standfirst-link\" href=\"/content/170785ce-68e5-4de5-88bc-168a9a7fa3ed\" tabindex=\"-1\">Cryptocurrency surges past $80,000 for first time after Donald Trump’s decisive win</a></p>"
      ]
     },
     "execution_count": 12,
     "metadata": {},
     "output_type": "execute_result"
    }
   ],
   "source": [
    "#with open(\"index.html\") as my_html:\n",
    " #soup = bs4.BeautifulSoup(my_html, 'lxml')\n",
    "\n",
    "# target first <p> element inside the body:\n",
    "soup.body.a\n",
    "\n",
    "# target first <p> element in the document:\n",
    "soup.find('p')"
   ]
  },
  {
   "cell_type": "code",
   "execution_count": 26,
   "metadata": {},
   "outputs": [
    {
     "data": {
      "text/plain": [
       "[<a class=\"js-teaser-heading-link\" data-trackable=\"heading-link\" href=\"/content/170785ce-68e5-4de5-88bc-168a9a7fa3ed\">Bitcoin hits record high as Republicans edge closer to full control of Congress</a>,\n",
       " <a class=\"js-teaser-heading-link\" data-trackable=\"heading-link\" href=\"/content/b7ee8186-1778-4b16-bee8-279c03923a66\">Binance boss hails crypto ‘golden age’ as Trump win fires up industry</a>,\n",
       " <a class=\"js-teaser-heading-link\" data-trackable=\"heading-link\" href=\"/content/bdc3311d-3a29-4a3a-82e7-d646bc065dce\">Bitcoin hits record above $75,000 as crypto industry celebrates Trump win</a>,\n",
       " <a class=\"js-teaser-heading-link\" data-trackable=\"heading-link\" href=\"/content/c14574de-15a3-44b9-aca9-726fbe1bf4ec\">Trump-aligned fund manager Strive jumps into bitcoin</a>,\n",
       " <a class=\"js-teaser-heading-link\" data-trackable=\"heading-link\" href=\"/content/21eb837a-e316-4995-a339-d20048d31e88\">Nigeria drops money laundering charges against detained Binance executive</a>,\n",
       " <a class=\"js-teaser-heading-link\" data-trackable=\"heading-link\" href=\"/content/58ee04f3-f961-4a6e-8c83-ea81e62c2b21\">Why selling gilts on the blockchain is just a token gesture  </a>,\n",
       " <a class=\"js-teaser-heading-link\" data-trackable=\"heading-link\" href=\"/content/b2c50db6-2884-4c52-973d-d30671602fb0\">The farce that is America’s ‘crypto election’</a>,\n",
       " <a class=\"js-teaser-heading-link\" data-trackable=\"heading-link\" href=\"/content/3563a562-d19e-49fc-aca4-fc20cf43646b\">What Kamala Harris should do about crypto</a>,\n",
       " <a class=\"js-teaser-heading-link\" data-trackable=\"heading-link\" href=\"/content/675b6d4e-0f4e-4953-8743-761eb1751f5b\">The Fed does right, by doing nothing</a>,\n",
       " <a class=\"js-teaser-heading-link\" data-trackable=\"heading-link\" href=\"http://digitalassets.ft.com/\">Digital assets dashboard, real-time data and insight at a glance</a>,\n",
       " <a class=\"js-teaser-heading-link\" data-trackable=\"heading-link\" href=\"/content/df9f5795-2aaf-4088-a76e-304056db61ef\">The FT crypto glossary</a>,\n",
       " <a class=\"js-teaser-heading-link\" data-trackable=\"heading-link\" href=\"/content/c19e04de-3ac6-411c-ad60-a3cf90486aaf\">Bonus: Michael Lewis on FTX &amp; Sam Bankman-Fried</a>,\n",
       " <a class=\"js-teaser-heading-link\" data-trackable=\"heading-link\" href=\"/content/f7a7fad1-f3ed-41ee-94a7-e1311989aa7e\">FTX: the legend of Sam Bankman-Fried | FT Film</a>,\n",
       " <a class=\"js-teaser-heading-link\" data-trackable=\"heading-link\" href=\"/content/1de32cca-0094-4519-95d3-995abc8493ce\">FTX sues Binance and former chief Zhao for $1.8bn</a>,\n",
       " <a aria-label=\"Listen to podcast China’s $1.4tn fiscal package fails to excite\" class=\"js-teaser-heading-link\" data-trackable=\"heading-link\" href=\"/content/04439d64-7fce-4eaf-8257-2648d9bf5857\">China’s $1.4tn fiscal package fails to excite</a>,\n",
       " <a class=\"js-teaser-heading-link\" data-trackable=\"heading-link\" href=\"/content/17231484-394d-4e5d-965a-3d24b01f8a1e\">Trump talk is enough to fire up a crypto boom</a>,\n",
       " <a class=\"js-teaser-heading-link\" data-trackable=\"heading-link\" href=\"/content/ff20e1fd-e778-4491-a340-5afa4c34c968\">CME customers criticise futures exchange after it wins approval to also act as broker</a>,\n",
       " <a class=\"js-teaser-heading-link\" data-trackable=\"heading-link\" href=\"/content/40dee5db-eaba-4e51-82f6-a4c22dec3883\">Meme coins’ unlikely rally turns gags into riches</a>,\n",
       " <a class=\"js-teaser-heading-link\" data-trackable=\"heading-link\" href=\"/content/5e5968fa-48a0-4454-9408-5244869c724a\">‘Satoshi Nakamoto’ says he also designed the Twitter logo</a>,\n",
       " <a class=\"js-teaser-heading-link\" data-trackable=\"heading-link\" href=\"/content/2c53eed9-c931-4429-b079-c1d1e52a26fa\">Crypto exchanges turn to derivatives to lure cautious investors</a>,\n",
       " <a class=\"js-teaser-heading-link\" data-trackable=\"heading-link\" href=\"/content/f344b465-9f2a-49f0-bf2a-1ee8cfc17135\">The hidden billions Argentines hold outside their financial system</a>,\n",
       " <a class=\"js-teaser-heading-link\" data-trackable=\"heading-link\" href=\"/content/499131cf-4a75-48fb-b7d3-1c10cd40311c\">Japan maintains cautious stance on crypto ETFs</a>,\n",
       " <a class=\"js-teaser-heading-link\" data-trackable=\"heading-link\" href=\"/ai-exchange\">AI Exchange</a>,\n",
       " <a class=\"js-teaser-heading-link\" data-trackable=\"heading-link\" href=\"/content/ab91cae1-0fdb-4363-b53c-a3a5be6dffd7\">Donald Trump has a new crypto venture. The industry is not impressed</a>,\n",
       " <a class=\"js-teaser-heading-link\" data-trackable=\"heading-link\" href=\"/content/839104b2-8828-4769-b5b2-4733db3e4e82\">EU markets watchdog pushes for extra cyber defences in new crypto rules</a>,\n",
       " <a class=\"js-teaser-heading-link\" data-trackable=\"heading-link\" href=\"/content/fca21775-f94d-4af4-b778-c1b72cc119f4\">FBI creates its own crypto token to nab suspects in alleged fraud scheme</a>,\n",
       " <a class=\"js-teaser-heading-link\" data-trackable=\"heading-link\" href=\"/content/0c7eaf7c-2b22-40c3-8793-5987180ad3fa\">Crypto.com sues SEC after receiving legal threat from US regulator</a>,\n",
       " <a class=\"js-teaser-heading-link\" data-trackable=\"heading-link\" href=\"/content/e3eafbe7-39b7-4e4c-8e1d-a07cb0051385\">Can a crypto ETF die of apathy?</a>,\n",
       " <a class=\"js-teaser-heading-link\" data-trackable=\"heading-link\" href=\"/content/92e0c542-7259-475d-b6f8-bc45b39eb185\">Active ETFs triumph over passives in fees from new flows </a>,\n",
       " <a class=\"js-teaser-heading-link\" data-trackable=\"heading-link\" href=\"/content/3f59cd4d-50fa-4bdb-bdcf-d9979f3502ee\">UK’s City minister pushes for blockchain gilts despite concerns </a>,\n",
       " <a class=\"js-teaser-heading-link\" data-trackable=\"heading-link\" href=\"/content/dcf12d6b-84a9-4a39-9b8e-ca1e36f2e2f0\">21Shares slashes fees on two flagship crypto ETPs</a>,\n",
       " <a class=\"js-teaser-heading-link\" data-trackable=\"heading-link\" href=\"/content/092d7977-14cb-44f5-bf2b-559db895d608\">Caroline Ellison gets 2-year prison sentence for FTX fraud</a>,\n",
       " <a class=\"js-teaser-heading-link\" data-trackable=\"heading-link\" href=\"/content/7a497898-38b7-4e84-9e8a-c2469ebafdc1\">Ethereum co-founder says partisanship will block Trump crypto plans</a>,\n",
       " <a class=\"js-teaser-heading-link\" data-trackable=\"heading-link\" href=\"/content/d21728f2-5be6-4494-9d77-7c03a518733a\">Speak your brains: CBDC edition</a>,\n",
       " <a class=\"js-teaser-heading-link\" data-trackable=\"heading-link\" href=\"/content/edcd0f00-71b1-4335-8eba-78c214cbc377\">Switzerland’s SIX explores launching crypto exchange</a>,\n",
       " <a class=\"js-teaser-heading-link\" data-trackable=\"heading-link\" href=\"/content/ad04330b-4252-45d3-a7f9-b60a9d930081\">SEC says FTX auditor did not understand the crypto market</a>,\n",
       " <a class=\"js-teaser-heading-link\" data-trackable=\"heading-link\" href=\"/content/a8cac5f4-a4b3-4cc7-b4f4-093c0194b8b3\">Do I owe UK tax on my crypto assets?</a>,\n",
       " <a class=\"js-teaser-heading-link\" data-trackable=\"heading-link\" href=\"/content/e9a93e3e-3c25-43a7-b3c8-b5d673cb6e78\">Trump promotes sons’ crypto company World Liberty Financial </a>,\n",
       " <a class=\"js-teaser-heading-link\" data-trackable=\"heading-link\" href=\"/content/170785ce-68e5-4de5-88bc-168a9a7fa3ed\">Bitcoin hits record high as Republicans edge closer to full control of Congress</a>,\n",
       " <a class=\"js-teaser-heading-link\" data-trackable=\"heading-link\" href=\"/content/b7ee8186-1778-4b16-bee8-279c03923a66\">Binance boss hails crypto ‘golden age’ as Trump win fires up industry</a>,\n",
       " <a class=\"js-teaser-heading-link\" data-trackable=\"heading-link\" href=\"/content/17231484-394d-4e5d-965a-3d24b01f8a1e\">Trump talk is enough to fire up a crypto boom</a>,\n",
       " <a class=\"js-teaser-heading-link\" data-trackable=\"heading-link\" href=\"/content/bdc3311d-3a29-4a3a-82e7-d646bc065dce\">Bitcoin hits record above $75,000 as crypto industry celebrates Trump win</a>,\n",
       " <a class=\"js-teaser-heading-link\" data-trackable=\"heading-link\" href=\"/content/ff20e1fd-e778-4491-a340-5afa4c34c968\">CME customers criticise futures exchange after it wins approval to also act as broker</a>]"
      ]
     },
     "execution_count": 26,
     "metadata": {},
     "output_type": "execute_result"
    }
   ],
   "source": [
    "main_title = soup.select(\".js-teaser-heading-link\")\n",
    "\n",
    "main_title"
   ]
  },
  {
   "cell_type": "code",
   "execution_count": 30,
   "metadata": {},
   "outputs": [],
   "source": [
    "titles = []\n",
    "for i in main_title:\n",
    "    titles.append(i.get_text(strip=True))\n"
   ]
  }
 ],
 "metadata": {
  "kernelspec": {
   "display_name": "base",
   "language": "python",
   "name": "python3"
  },
  "language_info": {
   "codemirror_mode": {
    "name": "ipython",
    "version": 3
   },
   "file_extension": ".py",
   "mimetype": "text/x-python",
   "name": "python",
   "nbconvert_exporter": "python",
   "pygments_lexer": "ipython3",
   "version": "3.12.4"
  }
 },
 "nbformat": 4,
 "nbformat_minor": 2
}
